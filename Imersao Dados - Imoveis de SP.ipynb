{
 "cells": [
  {
   "cell_type": "code",
   "execution_count": 206,
   "id": "80193cb4",
   "metadata": {},
   "outputs": [],
   "source": [
    "import pandas as pd \n",
    "import numpy as np\n",
    "import matplotlib.pyplot as plt\n",
    "import seaborn as sns"
   ]
  },
  {
   "cell_type": "code",
   "execution_count": null,
   "id": "1772e343",
   "metadata": {},
   "outputs": [],
   "source": []
  },
  {
   "cell_type": "code",
   "execution_count": 123,
   "id": "7abccfe9",
   "metadata": {},
   "outputs": [],
   "source": [
    "url ='https://gist.githubusercontent.com/tgcsantos/3bdb29eba6ce391e90df2b72205ba891/raw/22fa920e80c9fa209a9fccc8b52d74cc95d1599b/dados_imoveis.csv'"
   ]
  },
  {
   "cell_type": "code",
   "execution_count": 124,
   "id": "75395f91",
   "metadata": {},
   "outputs": [
    {
     "data": {
      "text/plain": [
       "(10008, 8)"
      ]
     },
     "execution_count": 124,
     "metadata": {},
     "output_type": "execute_result"
    }
   ],
   "source": [
    "dados = pd.read_csv(url)\n",
    "dados.shape"
   ]
  },
  {
   "cell_type": "code",
   "execution_count": 125,
   "id": "ccabcc23",
   "metadata": {},
   "outputs": [
    {
     "data": {
      "text/html": [
       "<div>\n",
       "<style scoped>\n",
       "    .dataframe tbody tr th:only-of-type {\n",
       "        vertical-align: middle;\n",
       "    }\n",
       "\n",
       "    .dataframe tbody tr th {\n",
       "        vertical-align: top;\n",
       "    }\n",
       "\n",
       "    .dataframe thead th {\n",
       "        text-align: right;\n",
       "    }\n",
       "</style>\n",
       "<table border=\"1\" class=\"dataframe\">\n",
       "  <thead>\n",
       "    <tr style=\"text-align: right;\">\n",
       "      <th></th>\n",
       "      <th>Rua</th>\n",
       "      <th>Bairro</th>\n",
       "      <th>Cidade</th>\n",
       "      <th>Metragem</th>\n",
       "      <th>Quartos</th>\n",
       "      <th>Banheiros</th>\n",
       "      <th>Vagas</th>\n",
       "      <th>Valor</th>\n",
       "    </tr>\n",
       "  </thead>\n",
       "  <tbody>\n",
       "    <tr>\n",
       "      <th>450</th>\n",
       "      <td>NaN</td>\n",
       "      <td>Alto de Pinheiros</td>\n",
       "      <td>São Paulo</td>\n",
       "      <td>400</td>\n",
       "      <td>4</td>\n",
       "      <td>3</td>\n",
       "      <td>4</td>\n",
       "      <td>R$ 2.111.000</td>\n",
       "    </tr>\n",
       "    <tr>\n",
       "      <th>9381</th>\n",
       "      <td>NaN</td>\n",
       "      <td>Vila Mariana</td>\n",
       "      <td>São Paulo</td>\n",
       "      <td>132</td>\n",
       "      <td>4</td>\n",
       "      <td>4</td>\n",
       "      <td>6</td>\n",
       "      <td>R$ 1.200.000</td>\n",
       "    </tr>\n",
       "    <tr>\n",
       "      <th>9467</th>\n",
       "      <td>NaN</td>\n",
       "      <td>Vila Campo Grande</td>\n",
       "      <td>São Paulo</td>\n",
       "      <td>70</td>\n",
       "      <td>2</td>\n",
       "      <td>1</td>\n",
       "      <td>1</td>\n",
       "      <td>R$ 428.000</td>\n",
       "    </tr>\n",
       "    <tr>\n",
       "      <th>4013</th>\n",
       "      <td>NaN</td>\n",
       "      <td>Jardim Paulista</td>\n",
       "      <td>São Paulo</td>\n",
       "      <td>250</td>\n",
       "      <td>4</td>\n",
       "      <td>3</td>\n",
       "      <td>6</td>\n",
       "      <td>R$ 8.000.000</td>\n",
       "    </tr>\n",
       "    <tr>\n",
       "      <th>9865</th>\n",
       "      <td>Rua Ministro Sinésio Rocha</td>\n",
       "      <td>Jardim Vera Cruz</td>\n",
       "      <td>São Paulo</td>\n",
       "      <td>389</td>\n",
       "      <td>3</td>\n",
       "      <td>6</td>\n",
       "      <td>2</td>\n",
       "      <td>R$ 1.800.000</td>\n",
       "    </tr>\n",
       "    <tr>\n",
       "      <th>2519</th>\n",
       "      <td>NaN</td>\n",
       "      <td>Boaçava</td>\n",
       "      <td>São Paulo</td>\n",
       "      <td>540</td>\n",
       "      <td>4</td>\n",
       "      <td>5</td>\n",
       "      <td>6</td>\n",
       "      <td>R$ 5.000.000</td>\n",
       "    </tr>\n",
       "    <tr>\n",
       "      <th>619</th>\n",
       "      <td>Rua Manaus, 48</td>\n",
       "      <td>Vila Bertioga</td>\n",
       "      <td>São Paulo</td>\n",
       "      <td>450</td>\n",
       "      <td>3</td>\n",
       "      <td>2</td>\n",
       "      <td>4</td>\n",
       "      <td>R$ 1.600.000</td>\n",
       "    </tr>\n",
       "    <tr>\n",
       "      <th>9662</th>\n",
       "      <td>Rua Bertioga, 493</td>\n",
       "      <td>Chácara Inglesa</td>\n",
       "      <td>São Paulo</td>\n",
       "      <td>103</td>\n",
       "      <td>2</td>\n",
       "      <td>1</td>\n",
       "      <td>1</td>\n",
       "      <td>R$ 720.001</td>\n",
       "    </tr>\n",
       "    <tr>\n",
       "      <th>7554</th>\n",
       "      <td>NaN</td>\n",
       "      <td>Brooklin Paulista</td>\n",
       "      <td>São Paulo</td>\n",
       "      <td>330</td>\n",
       "      <td>5</td>\n",
       "      <td>6</td>\n",
       "      <td>5</td>\n",
       "      <td>R$ 2.280.000</td>\n",
       "    </tr>\n",
       "    <tr>\n",
       "      <th>9788</th>\n",
       "      <td>Rua Doutor José Maria Whitaker</td>\n",
       "      <td>Vila Sônia</td>\n",
       "      <td>São Paulo</td>\n",
       "      <td>264</td>\n",
       "      <td>3</td>\n",
       "      <td>2</td>\n",
       "      <td>2</td>\n",
       "      <td>R$ 1.568.000</td>\n",
       "    </tr>\n",
       "  </tbody>\n",
       "</table>\n",
       "</div>"
      ],
      "text/plain": [
       "                                 Rua             Bairro     Cidade  Metragem  \\\n",
       "450                              NaN  Alto de Pinheiros  São Paulo       400   \n",
       "9381                             NaN       Vila Mariana  São Paulo       132   \n",
       "9467                             NaN  Vila Campo Grande  São Paulo        70   \n",
       "4013                             NaN    Jardim Paulista  São Paulo       250   \n",
       "9865      Rua Ministro Sinésio Rocha   Jardim Vera Cruz  São Paulo       389   \n",
       "2519                             NaN            Boaçava  São Paulo       540   \n",
       "619                  Rua Manaus, 48       Vila Bertioga  São Paulo       450   \n",
       "9662              Rua Bertioga, 493     Chácara Inglesa  São Paulo       103   \n",
       "7554                             NaN  Brooklin Paulista  São Paulo       330   \n",
       "9788  Rua Doutor José Maria Whitaker         Vila Sônia  São Paulo       264   \n",
       "\n",
       "      Quartos  Banheiros  Vagas         Valor  \n",
       "450         4          3      4  R$ 2.111.000  \n",
       "9381        4          4      6  R$ 1.200.000  \n",
       "9467        2          1      1    R$ 428.000  \n",
       "4013        4          3      6  R$ 8.000.000  \n",
       "9865        3          6      2  R$ 1.800.000  \n",
       "2519        4          5      6  R$ 5.000.000  \n",
       "619         3          2      4  R$ 1.600.000  \n",
       "9662        2          1      1    R$ 720.001  \n",
       "7554        5          6      5  R$ 2.280.000  \n",
       "9788        3          2      2  R$ 1.568.000  "
      ]
     },
     "execution_count": 125,
     "metadata": {},
     "output_type": "execute_result"
    }
   ],
   "source": [
    "dados.sample(10)"
   ]
  },
  {
   "cell_type": "code",
   "execution_count": 126,
   "id": "b5f030eb",
   "metadata": {},
   "outputs": [
    {
     "name": "stdout",
     "output_type": "stream",
     "text": [
      "<class 'pandas.core.frame.DataFrame'>\n",
      "RangeIndex: 10008 entries, 0 to 10007\n",
      "Data columns (total 8 columns):\n",
      " #   Column     Non-Null Count  Dtype \n",
      "---  ------     --------------  ----- \n",
      " 0   Rua        6574 non-null   object\n",
      " 1   Bairro     9996 non-null   object\n",
      " 2   Cidade     10008 non-null  object\n",
      " 3   Metragem   10008 non-null  int64 \n",
      " 4   Quartos    10008 non-null  int64 \n",
      " 5   Banheiros  10008 non-null  int64 \n",
      " 6   Vagas      10008 non-null  int64 \n",
      " 7   Valor      10008 non-null  object\n",
      "dtypes: int64(4), object(4)\n",
      "memory usage: 625.6+ KB\n"
     ]
    }
   ],
   "source": [
    "dados.info()"
   ]
  },
  {
   "cell_type": "code",
   "execution_count": 127,
   "id": "ea45dbf5",
   "metadata": {},
   "outputs": [
    {
     "data": {
      "text/plain": [
       "'Vila Paulo Silas'"
      ]
     },
     "execution_count": 127,
     "metadata": {},
     "output_type": "execute_result"
    }
   ],
   "source": [
    "dados.Bairro.loc[6522]"
   ]
  },
  {
   "cell_type": "code",
   "execution_count": 128,
   "id": "c423b172",
   "metadata": {},
   "outputs": [
    {
     "data": {
      "text/plain": [
       "Bairro\n",
       "Aclimação            253.056818\n",
       "Alto da Boa Vista    418.875000\n",
       "Alto da Lapa         294.337209\n",
       "Alto da Mooca        270.050000\n",
       "Alto de Pinheiros    433.444988\n",
       "                        ...    \n",
       "Vila Água Funda      152.200000\n",
       "Água Branca          191.000000\n",
       "Água Fria            165.416667\n",
       "Água Funda           139.000000\n",
       "Água Rasa            340.250000\n",
       "Name: Metragem, Length: 701, dtype: float64"
      ]
     },
     "execution_count": 128,
     "metadata": {},
     "output_type": "execute_result"
    }
   ],
   "source": [
    "valores = dados.groupby(['Bairro'])['Metragem'].mean()\n",
    "valores"
   ]
  },
  {
   "cell_type": "code",
   "execution_count": 129,
   "id": "19ed3b80",
   "metadata": {},
   "outputs": [
    {
     "data": {
      "text/plain": [
       "442.30065947242207"
      ]
     },
     "execution_count": 129,
     "metadata": {},
     "output_type": "execute_result"
    }
   ],
   "source": [
    "dados.Metragem.mean()"
   ]
  },
  {
   "cell_type": "code",
   "execution_count": 130,
   "id": "3c90f5f7",
   "metadata": {},
   "outputs": [
    {
     "data": {
      "text/plain": [
       "0        False\n",
       "1        False\n",
       "2        False\n",
       "3        False\n",
       "4        False\n",
       "         ...  \n",
       "10003    False\n",
       "10004    False\n",
       "10005    False\n",
       "10006    False\n",
       "10007    False\n",
       "Name: Bairro, Length: 10008, dtype: bool"
      ]
     },
     "execution_count": 130,
     "metadata": {},
     "output_type": "execute_result"
    }
   ],
   "source": [
    "dados['Bairro'] == 'Vila Mariana'"
   ]
  },
  {
   "cell_type": "code",
   "execution_count": 131,
   "id": "56f22a53",
   "metadata": {},
   "outputs": [
    {
     "data": {
      "text/plain": [
       "184"
      ]
     },
     "execution_count": 131,
     "metadata": {},
     "output_type": "execute_result"
    }
   ],
   "source": [
    "sum((dados['Bairro'] == 'Vila Mariana'))"
   ]
  },
  {
   "cell_type": "code",
   "execution_count": 132,
   "id": "c09a092c",
   "metadata": {},
   "outputs": [
    {
     "data": {
      "text/plain": [
       "0        0\n",
       "1        0\n",
       "2        0\n",
       "3        0\n",
       "4        0\n",
       "        ..\n",
       "10003    0\n",
       "10004    0\n",
       "10005    0\n",
       "10006    0\n",
       "10007    0\n",
       "Name: Bairro, Length: 10008, dtype: int64"
      ]
     },
     "execution_count": 132,
     "metadata": {},
     "output_type": "execute_result"
    }
   ],
   "source": [
    "imoveis_vila_mariana = (dados['Bairro'] == 'Vila Mariana')\n",
    "(imoveis_vila_mariana)*1"
   ]
  },
  {
   "cell_type": "code",
   "execution_count": 133,
   "id": "eb2d3ec4",
   "metadata": {},
   "outputs": [
    {
     "data": {
      "text/plain": [
       "233.6195652173913"
      ]
     },
     "execution_count": 133,
     "metadata": {},
     "output_type": "execute_result"
    }
   ],
   "source": [
    "total_imoveis_vila_mariana = dados[imoveis_vila_mariana]\n",
    "total_imoveis_vila_mariana.Metragem.mean()"
   ]
  },
  {
   "cell_type": "code",
   "execution_count": 134,
   "id": "c5489506",
   "metadata": {},
   "outputs": [
    {
     "data": {
      "text/plain": [
       "750000"
      ]
     },
     "execution_count": 134,
     "metadata": {},
     "output_type": "execute_result"
    }
   ],
   "source": [
    "dados_sem_na.Metragem.max()"
   ]
  },
  {
   "cell_type": "code",
   "execution_count": 135,
   "id": "7271e6f1",
   "metadata": {},
   "outputs": [
    {
     "data": {
      "text/plain": [
       "Alto de Pinheiros     409\n",
       "Jardim Guedala        403\n",
       "Jardim Paulista       309\n",
       "Brooklin Paulista     247\n",
       "Jardim Europa         240\n",
       "                     ... \n",
       "Jardim das Imbuias      1\n",
       "Vila Represa            1\n",
       "Vila Nancy              1\n",
       "Sítio Represa           1\n",
       "Vila Invernada          1\n",
       "Name: Bairro, Length: 701, dtype: int64"
      ]
     },
     "execution_count": 135,
     "metadata": {},
     "output_type": "execute_result"
    }
   ],
   "source": [
    "dados.Bairro.value_counts()"
   ]
  },
  {
   "cell_type": "code",
   "execution_count": 136,
   "id": "47d18a55",
   "metadata": {},
   "outputs": [
    {
     "data": {
      "text/plain": [
       "<AxesSubplot:>"
      ]
     },
     "execution_count": 136,
     "metadata": {},
     "output_type": "execute_result"
    },
    {
     "data": {
      "image/png": "[encoded data removed]",
      "text/plain": [
       "<Figure size 432x288 with 1 Axes>"
      ]
     },
     "metadata": {
      "needs_background": "light"
     },
     "output_type": "display_data"
    }
   ],
   "source": [
    "n_imoveis_bairros = dados_sem_na.Bairro.value_counts()\n",
    "n_imoveis_bairros.head(10).plot.bar()"
   ]
  },
  {
   "cell_type": "markdown",
   "id": "66efe4b4",
   "metadata": {},
   "source": [
    "Desafios:\n",
    "\n",
    "- Media de metragem para cada um dos bairros - Resposta: {metragem_bairros = pd.DataFrame(dados_sem_na.groupby(['Bairro'])['Metragem'].mean())}\n",
    "- 2 formas de buscar por bairro - resposta: (consultar os metodos na documentação Pandas)\n",
    "- explorar alguns graficos na documentacao e aplicar nas demais colunas do df, tirar conclusoes Resposta: (grafico_1.head(10).plot.pie())\n",
    "- pegar outras estatisticas dos dados e buscar conclusoes - Resposta: (dados.describe())\n",
    "- Quais os bairros que nao tem rua - resposta: (sem_rua2.Bairro.value_counts())"
   ]
  },
  {
   "cell_type": "code",
   "execution_count": 137,
   "id": "0cf36321",
   "metadata": {},
   "outputs": [
    {
     "data": {
      "text/html": [
       "<div>\n",
       "<style scoped>\n",
       "    .dataframe tbody tr th:only-of-type {\n",
       "        vertical-align: middle;\n",
       "    }\n",
       "\n",
       "    .dataframe tbody tr th {\n",
       "        vertical-align: top;\n",
       "    }\n",
       "\n",
       "    .dataframe thead th {\n",
       "        text-align: right;\n",
       "    }\n",
       "</style>\n",
       "<table border=\"1\" class=\"dataframe\">\n",
       "  <thead>\n",
       "    <tr style=\"text-align: right;\">\n",
       "      <th></th>\n",
       "      <th>Rua</th>\n",
       "      <th>Bairro</th>\n",
       "      <th>Cidade</th>\n",
       "      <th>Metragem</th>\n",
       "      <th>Quartos</th>\n",
       "      <th>Banheiros</th>\n",
       "      <th>Vagas</th>\n",
       "      <th>Valor</th>\n",
       "    </tr>\n",
       "  </thead>\n",
       "  <tbody>\n",
       "    <tr>\n",
       "      <th>0</th>\n",
       "      <td>Avenida Itacira, 255</td>\n",
       "      <td>Planalto Paulista</td>\n",
       "      <td>São Paulo</td>\n",
       "      <td>1000</td>\n",
       "      <td>4</td>\n",
       "      <td>8</td>\n",
       "      <td>6</td>\n",
       "      <td>R$ 7.000.000</td>\n",
       "    </tr>\n",
       "    <tr>\n",
       "      <th>1</th>\n",
       "      <td>Rua Aurelia Perez Alvarez, 42</td>\n",
       "      <td>Jardim dos Estados</td>\n",
       "      <td>São Paulo</td>\n",
       "      <td>496</td>\n",
       "      <td>4</td>\n",
       "      <td>4</td>\n",
       "      <td>4</td>\n",
       "      <td>R$ 3.700.000</td>\n",
       "    </tr>\n",
       "    <tr>\n",
       "      <th>2</th>\n",
       "      <td>Rua Alba Valdez</td>\n",
       "      <td>Jardim Reimberg</td>\n",
       "      <td>São Paulo</td>\n",
       "      <td>125</td>\n",
       "      <td>4</td>\n",
       "      <td>3</td>\n",
       "      <td>2</td>\n",
       "      <td>R$ 380.000</td>\n",
       "    </tr>\n",
       "    <tr>\n",
       "      <th>3</th>\n",
       "      <td>NaN</td>\n",
       "      <td>Jardim Morumbi</td>\n",
       "      <td>São Paulo</td>\n",
       "      <td>310</td>\n",
       "      <td>3</td>\n",
       "      <td>2</td>\n",
       "      <td>4</td>\n",
       "      <td>R$ 685.000</td>\n",
       "    </tr>\n",
       "    <tr>\n",
       "      <th>4</th>\n",
       "      <td>Rua Tobias Barreto, 195</td>\n",
       "      <td>Mooca</td>\n",
       "      <td>São Paulo</td>\n",
       "      <td>100</td>\n",
       "      <td>3</td>\n",
       "      <td>2</td>\n",
       "      <td>2</td>\n",
       "      <td>R$ 540.000</td>\n",
       "    </tr>\n",
       "    <tr>\n",
       "      <th>...</th>\n",
       "      <td>...</td>\n",
       "      <td>...</td>\n",
       "      <td>...</td>\n",
       "      <td>...</td>\n",
       "      <td>...</td>\n",
       "      <td>...</td>\n",
       "      <td>...</td>\n",
       "      <td>...</td>\n",
       "    </tr>\n",
       "    <tr>\n",
       "      <th>10003</th>\n",
       "      <td>Rua Tapuçu</td>\n",
       "      <td>Vila Sofia</td>\n",
       "      <td>São Paulo</td>\n",
       "      <td>95</td>\n",
       "      <td>2</td>\n",
       "      <td>2</td>\n",
       "      <td>2</td>\n",
       "      <td>R$ 665.000</td>\n",
       "    </tr>\n",
       "    <tr>\n",
       "      <th>10004</th>\n",
       "      <td>Rua Guararema</td>\n",
       "      <td>Bosque da Saúde</td>\n",
       "      <td>São Paulo</td>\n",
       "      <td>605</td>\n",
       "      <td>8</td>\n",
       "      <td>7</td>\n",
       "      <td>5</td>\n",
       "      <td>R$ 2.300.000</td>\n",
       "    </tr>\n",
       "    <tr>\n",
       "      <th>10005</th>\n",
       "      <td>Rua Estero Belaco</td>\n",
       "      <td>Vila da Saúde</td>\n",
       "      <td>São Paulo</td>\n",
       "      <td>205</td>\n",
       "      <td>3</td>\n",
       "      <td>3</td>\n",
       "      <td>6</td>\n",
       "      <td>R$ 1.050.000</td>\n",
       "    </tr>\n",
       "    <tr>\n",
       "      <th>10006</th>\n",
       "      <td>Rua Manuel Onha, , 514</td>\n",
       "      <td>Vila Oratório</td>\n",
       "      <td>São Paulo</td>\n",
       "      <td>185</td>\n",
       "      <td>3</td>\n",
       "      <td>2</td>\n",
       "      <td>2</td>\n",
       "      <td>R$ 2.200\\n                      /Mês</td>\n",
       "    </tr>\n",
       "    <tr>\n",
       "      <th>10007</th>\n",
       "      <td>Rua Barão de Tramandaí, 0</td>\n",
       "      <td>Vila Alpina</td>\n",
       "      <td>São Paulo</td>\n",
       "      <td>122</td>\n",
       "      <td>3</td>\n",
       "      <td>2</td>\n",
       "      <td>2</td>\n",
       "      <td>R$ 270.000</td>\n",
       "    </tr>\n",
       "  </tbody>\n",
       "</table>\n",
       "<p>9996 rows × 8 columns</p>\n",
       "</div>"
      ],
      "text/plain": [
       "                                  Rua              Bairro     Cidade  \\\n",
       "0               Avenida Itacira, 255    Planalto Paulista  São Paulo   \n",
       "1      Rua Aurelia Perez Alvarez, 42   Jardim dos Estados  São Paulo   \n",
       "2                     Rua Alba Valdez     Jardim Reimberg  São Paulo   \n",
       "3                                 NaN      Jardim Morumbi  São Paulo   \n",
       "4            Rua Tobias Barreto, 195                Mooca  São Paulo   \n",
       "...                               ...                 ...        ...   \n",
       "10003                      Rua Tapuçu          Vila Sofia  São Paulo   \n",
       "10004                   Rua Guararema     Bosque da Saúde  São Paulo   \n",
       "10005               Rua Estero Belaco       Vila da Saúde  São Paulo   \n",
       "10006         Rua Manuel Onha, , 514        Vila Oratório  São Paulo   \n",
       "10007      Rua Barão de Tramandaí, 0          Vila Alpina  São Paulo   \n",
       "\n",
       "       Metragem  Quartos  Banheiros  Vagas  \\\n",
       "0          1000        4          8      6   \n",
       "1           496        4          4      4   \n",
       "2           125        4          3      2   \n",
       "3           310        3          2      4   \n",
       "4           100        3          2      2   \n",
       "...         ...      ...        ...    ...   \n",
       "10003        95        2          2      2   \n",
       "10004       605        8          7      5   \n",
       "10005       205        3          3      6   \n",
       "10006       185        3          2      2   \n",
       "10007       122        3          2      2   \n",
       "\n",
       "                                      Valor  \n",
       "0                              R$ 7.000.000  \n",
       "1                              R$ 3.700.000  \n",
       "2                                R$ 380.000  \n",
       "3                                R$ 685.000  \n",
       "4                                R$ 540.000  \n",
       "...                                     ...  \n",
       "10003                            R$ 665.000  \n",
       "10004                          R$ 2.300.000  \n",
       "10005                          R$ 1.050.000  \n",
       "10006  R$ 2.200\\n                      /Mês  \n",
       "10007                            R$ 270.000  \n",
       "\n",
       "[9996 rows x 8 columns]"
      ]
     },
     "execution_count": 137,
     "metadata": {},
     "output_type": "execute_result"
    }
   ],
   "source": [
    "dados_sem_na = dados.dropna(subset = ['Bairro'])\n",
    "dados_sem_na"
   ]
  },
  {
   "cell_type": "code",
   "execution_count": 138,
   "id": "89ac600a",
   "metadata": {},
   "outputs": [
    {
     "data": {
      "text/html": [
       "<div>\n",
       "<style scoped>\n",
       "    .dataframe tbody tr th:only-of-type {\n",
       "        vertical-align: middle;\n",
       "    }\n",
       "\n",
       "    .dataframe tbody tr th {\n",
       "        vertical-align: top;\n",
       "    }\n",
       "\n",
       "    .dataframe thead th {\n",
       "        text-align: right;\n",
       "    }\n",
       "</style>\n",
       "<table border=\"1\" class=\"dataframe\">\n",
       "  <thead>\n",
       "    <tr style=\"text-align: right;\">\n",
       "      <th></th>\n",
       "      <th>Rua</th>\n",
       "      <th>Bairro</th>\n",
       "      <th>Cidade</th>\n",
       "      <th>Metragem</th>\n",
       "      <th>Quartos</th>\n",
       "      <th>Banheiros</th>\n",
       "      <th>Vagas</th>\n",
       "      <th>Valor</th>\n",
       "    </tr>\n",
       "  </thead>\n",
       "  <tbody>\n",
       "    <tr>\n",
       "      <th>0</th>\n",
       "      <td>Avenida Itacira, 255</td>\n",
       "      <td>Planalto Paulista</td>\n",
       "      <td>São Paulo</td>\n",
       "      <td>1000</td>\n",
       "      <td>4</td>\n",
       "      <td>8</td>\n",
       "      <td>6</td>\n",
       "      <td>R$ 7.000.000</td>\n",
       "    </tr>\n",
       "    <tr>\n",
       "      <th>1</th>\n",
       "      <td>Rua Aurelia Perez Alvarez, 42</td>\n",
       "      <td>Jardim dos Estados</td>\n",
       "      <td>São Paulo</td>\n",
       "      <td>496</td>\n",
       "      <td>4</td>\n",
       "      <td>4</td>\n",
       "      <td>4</td>\n",
       "      <td>R$ 3.700.000</td>\n",
       "    </tr>\n",
       "    <tr>\n",
       "      <th>2</th>\n",
       "      <td>Rua Alba Valdez</td>\n",
       "      <td>Jardim Reimberg</td>\n",
       "      <td>São Paulo</td>\n",
       "      <td>125</td>\n",
       "      <td>4</td>\n",
       "      <td>3</td>\n",
       "      <td>2</td>\n",
       "      <td>R$ 380.000</td>\n",
       "    </tr>\n",
       "    <tr>\n",
       "      <th>3</th>\n",
       "      <td>Sem Rua</td>\n",
       "      <td>Jardim Morumbi</td>\n",
       "      <td>São Paulo</td>\n",
       "      <td>310</td>\n",
       "      <td>3</td>\n",
       "      <td>2</td>\n",
       "      <td>4</td>\n",
       "      <td>R$ 685.000</td>\n",
       "    </tr>\n",
       "    <tr>\n",
       "      <th>4</th>\n",
       "      <td>Rua Tobias Barreto, 195</td>\n",
       "      <td>Mooca</td>\n",
       "      <td>São Paulo</td>\n",
       "      <td>100</td>\n",
       "      <td>3</td>\n",
       "      <td>2</td>\n",
       "      <td>2</td>\n",
       "      <td>R$ 540.000</td>\n",
       "    </tr>\n",
       "    <tr>\n",
       "      <th>...</th>\n",
       "      <td>...</td>\n",
       "      <td>...</td>\n",
       "      <td>...</td>\n",
       "      <td>...</td>\n",
       "      <td>...</td>\n",
       "      <td>...</td>\n",
       "      <td>...</td>\n",
       "      <td>...</td>\n",
       "    </tr>\n",
       "    <tr>\n",
       "      <th>10003</th>\n",
       "      <td>Rua Tapuçu</td>\n",
       "      <td>Vila Sofia</td>\n",
       "      <td>São Paulo</td>\n",
       "      <td>95</td>\n",
       "      <td>2</td>\n",
       "      <td>2</td>\n",
       "      <td>2</td>\n",
       "      <td>R$ 665.000</td>\n",
       "    </tr>\n",
       "    <tr>\n",
       "      <th>10004</th>\n",
       "      <td>Rua Guararema</td>\n",
       "      <td>Bosque da Saúde</td>\n",
       "      <td>São Paulo</td>\n",
       "      <td>605</td>\n",
       "      <td>8</td>\n",
       "      <td>7</td>\n",
       "      <td>5</td>\n",
       "      <td>R$ 2.300.000</td>\n",
       "    </tr>\n",
       "    <tr>\n",
       "      <th>10005</th>\n",
       "      <td>Rua Estero Belaco</td>\n",
       "      <td>Vila da Saúde</td>\n",
       "      <td>São Paulo</td>\n",
       "      <td>205</td>\n",
       "      <td>3</td>\n",
       "      <td>3</td>\n",
       "      <td>6</td>\n",
       "      <td>R$ 1.050.000</td>\n",
       "    </tr>\n",
       "    <tr>\n",
       "      <th>10006</th>\n",
       "      <td>Rua Manuel Onha, , 514</td>\n",
       "      <td>Vila Oratório</td>\n",
       "      <td>São Paulo</td>\n",
       "      <td>185</td>\n",
       "      <td>3</td>\n",
       "      <td>2</td>\n",
       "      <td>2</td>\n",
       "      <td>R$ 2.200\\n                      /Mês</td>\n",
       "    </tr>\n",
       "    <tr>\n",
       "      <th>10007</th>\n",
       "      <td>Rua Barão de Tramandaí, 0</td>\n",
       "      <td>Vila Alpina</td>\n",
       "      <td>São Paulo</td>\n",
       "      <td>122</td>\n",
       "      <td>3</td>\n",
       "      <td>2</td>\n",
       "      <td>2</td>\n",
       "      <td>R$ 270.000</td>\n",
       "    </tr>\n",
       "  </tbody>\n",
       "</table>\n",
       "<p>10008 rows × 8 columns</p>\n",
       "</div>"
      ],
      "text/plain": [
       "                                  Rua              Bairro     Cidade  \\\n",
       "0               Avenida Itacira, 255    Planalto Paulista  São Paulo   \n",
       "1      Rua Aurelia Perez Alvarez, 42   Jardim dos Estados  São Paulo   \n",
       "2                     Rua Alba Valdez     Jardim Reimberg  São Paulo   \n",
       "3                             Sem Rua      Jardim Morumbi  São Paulo   \n",
       "4            Rua Tobias Barreto, 195                Mooca  São Paulo   \n",
       "...                               ...                 ...        ...   \n",
       "10003                      Rua Tapuçu          Vila Sofia  São Paulo   \n",
       "10004                   Rua Guararema     Bosque da Saúde  São Paulo   \n",
       "10005               Rua Estero Belaco       Vila da Saúde  São Paulo   \n",
       "10006         Rua Manuel Onha, , 514        Vila Oratório  São Paulo   \n",
       "10007      Rua Barão de Tramandaí, 0          Vila Alpina  São Paulo   \n",
       "\n",
       "       Metragem  Quartos  Banheiros  Vagas  \\\n",
       "0          1000        4          8      6   \n",
       "1           496        4          4      4   \n",
       "2           125        4          3      2   \n",
       "3           310        3          2      4   \n",
       "4           100        3          2      2   \n",
       "...         ...      ...        ...    ...   \n",
       "10003        95        2          2      2   \n",
       "10004       605        8          7      5   \n",
       "10005       205        3          3      6   \n",
       "10006       185        3          2      2   \n",
       "10007       122        3          2      2   \n",
       "\n",
       "                                      Valor  \n",
       "0                              R$ 7.000.000  \n",
       "1                              R$ 3.700.000  \n",
       "2                                R$ 380.000  \n",
       "3                                R$ 685.000  \n",
       "4                                R$ 540.000  \n",
       "...                                     ...  \n",
       "10003                            R$ 665.000  \n",
       "10004                          R$ 2.300.000  \n",
       "10005                          R$ 1.050.000  \n",
       "10006  R$ 2.200\\n                      /Mês  \n",
       "10007                            R$ 270.000  \n",
       "\n",
       "[10008 rows x 8 columns]"
      ]
     },
     "execution_count": 138,
     "metadata": {},
     "output_type": "execute_result"
    }
   ],
   "source": [
    "dados_sem_na = dados.replace(np.nan, 'Sem Rua')\n",
    "dados_sem_na"
   ]
  },
  {
   "cell_type": "code",
   "execution_count": 139,
   "id": "74fc9ac3",
   "metadata": {},
   "outputs": [],
   "source": [
    "dados_na = dados_sem_na['Rua'] == 'Sem Rua'"
   ]
  },
  {
   "cell_type": "code",
   "execution_count": 140,
   "id": "48c0519f",
   "metadata": {},
   "outputs": [
    {
     "data": {
      "text/html": [
       "<div>\n",
       "<style scoped>\n",
       "    .dataframe tbody tr th:only-of-type {\n",
       "        vertical-align: middle;\n",
       "    }\n",
       "\n",
       "    .dataframe tbody tr th {\n",
       "        vertical-align: top;\n",
       "    }\n",
       "\n",
       "    .dataframe thead th {\n",
       "        text-align: right;\n",
       "    }\n",
       "</style>\n",
       "<table border=\"1\" class=\"dataframe\">\n",
       "  <thead>\n",
       "    <tr style=\"text-align: right;\">\n",
       "      <th></th>\n",
       "      <th>Rua</th>\n",
       "      <th>Bairro</th>\n",
       "      <th>Cidade</th>\n",
       "      <th>Metragem</th>\n",
       "      <th>Quartos</th>\n",
       "      <th>Banheiros</th>\n",
       "      <th>Vagas</th>\n",
       "      <th>Valor</th>\n",
       "    </tr>\n",
       "  </thead>\n",
       "  <tbody>\n",
       "    <tr>\n",
       "      <th>3</th>\n",
       "      <td>Sem Rua</td>\n",
       "      <td>Jardim Morumbi</td>\n",
       "      <td>São Paulo</td>\n",
       "      <td>310</td>\n",
       "      <td>3</td>\n",
       "      <td>2</td>\n",
       "      <td>4</td>\n",
       "      <td>R$ 685.000</td>\n",
       "    </tr>\n",
       "    <tr>\n",
       "      <th>11</th>\n",
       "      <td>Sem Rua</td>\n",
       "      <td>Jardim Luzitânia</td>\n",
       "      <td>São Paulo</td>\n",
       "      <td>436</td>\n",
       "      <td>4</td>\n",
       "      <td>3</td>\n",
       "      <td>3</td>\n",
       "      <td>R$ 15.000</td>\n",
       "    </tr>\n",
       "    <tr>\n",
       "      <th>31</th>\n",
       "      <td>Sem Rua</td>\n",
       "      <td>Parque da Lapa</td>\n",
       "      <td>São Paulo</td>\n",
       "      <td>220</td>\n",
       "      <td>4</td>\n",
       "      <td>4</td>\n",
       "      <td>3</td>\n",
       "      <td>R$ 849.000</td>\n",
       "    </tr>\n",
       "    <tr>\n",
       "      <th>56</th>\n",
       "      <td>Sem Rua</td>\n",
       "      <td>Chácara Santo Antônio (Zona Sul)</td>\n",
       "      <td>São Paulo</td>\n",
       "      <td>190</td>\n",
       "      <td>2</td>\n",
       "      <td>2</td>\n",
       "      <td>2</td>\n",
       "      <td>R$ 1.100.000</td>\n",
       "    </tr>\n",
       "    <tr>\n",
       "      <th>57</th>\n",
       "      <td>Sem Rua</td>\n",
       "      <td>Jardim Guedala</td>\n",
       "      <td>São Paulo</td>\n",
       "      <td>650</td>\n",
       "      <td>4</td>\n",
       "      <td>6</td>\n",
       "      <td>4</td>\n",
       "      <td>R$ 5.500.000</td>\n",
       "    </tr>\n",
       "    <tr>\n",
       "      <th>...</th>\n",
       "      <td>...</td>\n",
       "      <td>...</td>\n",
       "      <td>...</td>\n",
       "      <td>...</td>\n",
       "      <td>...</td>\n",
       "      <td>...</td>\n",
       "      <td>...</td>\n",
       "      <td>...</td>\n",
       "    </tr>\n",
       "    <tr>\n",
       "      <th>9963</th>\n",
       "      <td>Sem Rua</td>\n",
       "      <td>Jardim Petrópolis</td>\n",
       "      <td>São Paulo</td>\n",
       "      <td>423</td>\n",
       "      <td>5</td>\n",
       "      <td>7</td>\n",
       "      <td>6</td>\n",
       "      <td>R$ 2.800.000</td>\n",
       "    </tr>\n",
       "    <tr>\n",
       "      <th>9989</th>\n",
       "      <td>Sem Rua</td>\n",
       "      <td>Parque Alves de Lima</td>\n",
       "      <td>São Paulo</td>\n",
       "      <td>127</td>\n",
       "      <td>2</td>\n",
       "      <td>1</td>\n",
       "      <td>2</td>\n",
       "      <td>R$ 400.000</td>\n",
       "    </tr>\n",
       "    <tr>\n",
       "      <th>9991</th>\n",
       "      <td>Sem Rua</td>\n",
       "      <td>Vila Formosa</td>\n",
       "      <td>São Paulo</td>\n",
       "      <td>145</td>\n",
       "      <td>3</td>\n",
       "      <td>2</td>\n",
       "      <td>3</td>\n",
       "      <td>R$ 750.000</td>\n",
       "    </tr>\n",
       "    <tr>\n",
       "      <th>9995</th>\n",
       "      <td>Sem Rua</td>\n",
       "      <td>Jardim Leonor</td>\n",
       "      <td>São Paulo</td>\n",
       "      <td>1350</td>\n",
       "      <td>5</td>\n",
       "      <td>9</td>\n",
       "      <td>7</td>\n",
       "      <td>R$ 9.500.000</td>\n",
       "    </tr>\n",
       "    <tr>\n",
       "      <th>9999</th>\n",
       "      <td>Sem Rua</td>\n",
       "      <td>Jardim Petrópolis</td>\n",
       "      <td>São Paulo</td>\n",
       "      <td>423</td>\n",
       "      <td>5</td>\n",
       "      <td>7</td>\n",
       "      <td>6</td>\n",
       "      <td>R$ 2.800.000</td>\n",
       "    </tr>\n",
       "  </tbody>\n",
       "</table>\n",
       "<p>3434 rows × 8 columns</p>\n",
       "</div>"
      ],
      "text/plain": [
       "          Rua                            Bairro     Cidade  Metragem  Quartos  \\\n",
       "3     Sem Rua                    Jardim Morumbi  São Paulo       310        3   \n",
       "11    Sem Rua                  Jardim Luzitânia  São Paulo       436        4   \n",
       "31    Sem Rua                    Parque da Lapa  São Paulo       220        4   \n",
       "56    Sem Rua  Chácara Santo Antônio (Zona Sul)  São Paulo       190        2   \n",
       "57    Sem Rua                    Jardim Guedala  São Paulo       650        4   \n",
       "...       ...                               ...        ...       ...      ...   \n",
       "9963  Sem Rua                 Jardim Petrópolis  São Paulo       423        5   \n",
       "9989  Sem Rua              Parque Alves de Lima  São Paulo       127        2   \n",
       "9991  Sem Rua                      Vila Formosa  São Paulo       145        3   \n",
       "9995  Sem Rua                     Jardim Leonor  São Paulo      1350        5   \n",
       "9999  Sem Rua                 Jardim Petrópolis  São Paulo       423        5   \n",
       "\n",
       "      Banheiros  Vagas         Valor  \n",
       "3             2      4    R$ 685.000  \n",
       "11            3      3     R$ 15.000  \n",
       "31            4      3    R$ 849.000  \n",
       "56            2      2  R$ 1.100.000  \n",
       "57            6      4  R$ 5.500.000  \n",
       "...         ...    ...           ...  \n",
       "9963          7      6  R$ 2.800.000  \n",
       "9989          1      2    R$ 400.000  \n",
       "9991          2      3    R$ 750.000  \n",
       "9995          9      7  R$ 9.500.000  \n",
       "9999          7      6  R$ 2.800.000  \n",
       "\n",
       "[3434 rows x 8 columns]"
      ]
     },
     "execution_count": 140,
     "metadata": {},
     "output_type": "execute_result"
    }
   ],
   "source": [
    "sem_rua2 = dados_sem_na[dados_na]\n",
    "sem_rua2"
   ]
  },
  {
   "cell_type": "code",
   "execution_count": 141,
   "id": "cc9f8718",
   "metadata": {},
   "outputs": [
    {
     "data": {
      "text/plain": [
       "Jardim Guedala                      190\n",
       "Alto de Pinheiros                   169\n",
       "Jardim Paulista                     138\n",
       "Jardim Europa                       128\n",
       "Jardim Leonor                       118\n",
       "                                   ... \n",
       "Jardim do Colégio (Zona Norte)        1\n",
       "Alto da Boa Vista                     1\n",
       "Jardim Aeroporto                      1\n",
       "Conjunto Residencial Vista Verde      1\n",
       "Jardim Santo Elias                    1\n",
       "Name: Bairro, Length: 394, dtype: int64"
      ]
     },
     "execution_count": 141,
     "metadata": {},
     "output_type": "execute_result"
    }
   ],
   "source": [
    "sem_rua2.Bairro.value_counts()"
   ]
  },
  {
   "cell_type": "code",
   "execution_count": 142,
   "id": "9d0b1ea2",
   "metadata": {},
   "outputs": [
    {
     "data": {
      "text/plain": [
       "<AxesSubplot:ylabel='Bairro'>"
      ]
     },
     "execution_count": 142,
     "metadata": {},
     "output_type": "execute_result"
    },
    {
     "data": {
      "image/png": "[encoded data removed]",
      "text/plain": [
       "<Figure size 432x288 with 1 Axes>"
      ]
     },
     "metadata": {},
     "output_type": "display_data"
    }
   ],
   "source": [
    "grafico_1 = sem_rua2.Bairro.value_counts()\n",
    "grafico_1.head(10).plot.pie()"
   ]
  },
  {
   "cell_type": "code",
   "execution_count": 143,
   "id": "6f600e4c",
   "metadata": {},
   "outputs": [
    {
     "data": {
      "text/plain": [
       "Rua                              Bairro                 \n",
       "Rua Alberto Faria                Alto de Pinheiros          24\n",
       "Avenida das Magnólias            Cidade Jardim              21\n",
       "Rua Sampaio Vidal                Jardim Paulistano          19\n",
       "Rua Comandante Ismael Guilherme  Jardim Luzitânia           18\n",
       "Rua Mesquita                     Vila Deodoro               18\n",
       "                                                            ..\n",
       "Rua Faria Lobato                 Vila Santa Clara            1\n",
       "Rua Falchi Gianini, 497          Vila Prudente               1\n",
       "Rua Fabiano Alves                Parque da Vila Prudente     1\n",
       "Rua Eça de Queiróz               Vila Mariana                1\n",
       "Rua Guarei                       Vila Bertioga               1\n",
       "Length: 3179, dtype: int64"
      ]
     },
     "execution_count": 143,
     "metadata": {},
     "output_type": "execute_result"
    }
   ],
   "source": [
    "dados[['Rua','Bairro']].value_counts()"
   ]
  },
  {
   "cell_type": "code",
   "execution_count": 144,
   "id": "62eadb1f",
   "metadata": {},
   "outputs": [
    {
     "data": {
      "text/html": [
       "<div>\n",
       "<style scoped>\n",
       "    .dataframe tbody tr th:only-of-type {\n",
       "        vertical-align: middle;\n",
       "    }\n",
       "\n",
       "    .dataframe tbody tr th {\n",
       "        vertical-align: top;\n",
       "    }\n",
       "\n",
       "    .dataframe thead th {\n",
       "        text-align: right;\n",
       "    }\n",
       "</style>\n",
       "<table border=\"1\" class=\"dataframe\">\n",
       "  <thead>\n",
       "    <tr style=\"text-align: right;\">\n",
       "      <th></th>\n",
       "      <th>Metragem</th>\n",
       "      <th>Quartos</th>\n",
       "      <th>Banheiros</th>\n",
       "      <th>Vagas</th>\n",
       "    </tr>\n",
       "  </thead>\n",
       "  <tbody>\n",
       "    <tr>\n",
       "      <th>count</th>\n",
       "      <td>10008.000000</td>\n",
       "      <td>10008.000000</td>\n",
       "      <td>10008.000000</td>\n",
       "      <td>10008.000000</td>\n",
       "    </tr>\n",
       "    <tr>\n",
       "      <th>mean</th>\n",
       "      <td>442.300659</td>\n",
       "      <td>3.483114</td>\n",
       "      <td>3.879097</td>\n",
       "      <td>4.097222</td>\n",
       "    </tr>\n",
       "    <tr>\n",
       "      <th>std</th>\n",
       "      <td>7515.379389</td>\n",
       "      <td>1.064200</td>\n",
       "      <td>1.988467</td>\n",
       "      <td>2.824014</td>\n",
       "    </tr>\n",
       "    <tr>\n",
       "      <th>min</th>\n",
       "      <td>10.000000</td>\n",
       "      <td>1.000000</td>\n",
       "      <td>1.000000</td>\n",
       "      <td>1.000000</td>\n",
       "    </tr>\n",
       "    <tr>\n",
       "      <th>25%</th>\n",
       "      <td>173.000000</td>\n",
       "      <td>3.000000</td>\n",
       "      <td>2.000000</td>\n",
       "      <td>2.000000</td>\n",
       "    </tr>\n",
       "    <tr>\n",
       "      <th>50%</th>\n",
       "      <td>290.000000</td>\n",
       "      <td>3.000000</td>\n",
       "      <td>4.000000</td>\n",
       "      <td>4.000000</td>\n",
       "    </tr>\n",
       "    <tr>\n",
       "      <th>75%</th>\n",
       "      <td>460.250000</td>\n",
       "      <td>4.000000</td>\n",
       "      <td>5.000000</td>\n",
       "      <td>5.000000</td>\n",
       "    </tr>\n",
       "    <tr>\n",
       "      <th>max</th>\n",
       "      <td>750000.000000</td>\n",
       "      <td>16.000000</td>\n",
       "      <td>40.000000</td>\n",
       "      <td>50.000000</td>\n",
       "    </tr>\n",
       "  </tbody>\n",
       "</table>\n",
       "</div>"
      ],
      "text/plain": [
       "            Metragem       Quartos     Banheiros         Vagas\n",
       "count   10008.000000  10008.000000  10008.000000  10008.000000\n",
       "mean      442.300659      3.483114      3.879097      4.097222\n",
       "std      7515.379389      1.064200      1.988467      2.824014\n",
       "min        10.000000      1.000000      1.000000      1.000000\n",
       "25%       173.000000      3.000000      2.000000      2.000000\n",
       "50%       290.000000      3.000000      4.000000      4.000000\n",
       "75%       460.250000      4.000000      5.000000      5.000000\n",
       "max    750000.000000     16.000000     40.000000     50.000000"
      ]
     },
     "execution_count": 144,
     "metadata": {},
     "output_type": "execute_result"
    }
   ],
   "source": [
    "dados.describe()"
   ]
  },
  {
   "cell_type": "code",
   "execution_count": 145,
   "id": "569ae86b",
   "metadata": {},
   "outputs": [
    {
     "data": {
      "text/html": [
       "<div>\n",
       "<style scoped>\n",
       "    .dataframe tbody tr th:only-of-type {\n",
       "        vertical-align: middle;\n",
       "    }\n",
       "\n",
       "    .dataframe tbody tr th {\n",
       "        vertical-align: top;\n",
       "    }\n",
       "\n",
       "    .dataframe thead th {\n",
       "        text-align: right;\n",
       "    }\n",
       "</style>\n",
       "<table border=\"1\" class=\"dataframe\">\n",
       "  <thead>\n",
       "    <tr style=\"text-align: right;\">\n",
       "      <th></th>\n",
       "      <th>Metragem</th>\n",
       "    </tr>\n",
       "    <tr>\n",
       "      <th>Bairro</th>\n",
       "      <th></th>\n",
       "    </tr>\n",
       "  </thead>\n",
       "  <tbody>\n",
       "    <tr>\n",
       "      <th>Aclimação</th>\n",
       "      <td>253.056818</td>\n",
       "    </tr>\n",
       "    <tr>\n",
       "      <th>Alto da Boa Vista</th>\n",
       "      <td>418.875000</td>\n",
       "    </tr>\n",
       "    <tr>\n",
       "      <th>Alto da Lapa</th>\n",
       "      <td>294.337209</td>\n",
       "    </tr>\n",
       "    <tr>\n",
       "      <th>Alto da Mooca</th>\n",
       "      <td>270.050000</td>\n",
       "    </tr>\n",
       "    <tr>\n",
       "      <th>Alto de Pinheiros</th>\n",
       "      <td>433.444988</td>\n",
       "    </tr>\n",
       "    <tr>\n",
       "      <th>...</th>\n",
       "      <td>...</td>\n",
       "    </tr>\n",
       "    <tr>\n",
       "      <th>Vila Água Funda</th>\n",
       "      <td>152.200000</td>\n",
       "    </tr>\n",
       "    <tr>\n",
       "      <th>Água Branca</th>\n",
       "      <td>191.000000</td>\n",
       "    </tr>\n",
       "    <tr>\n",
       "      <th>Água Fria</th>\n",
       "      <td>165.416667</td>\n",
       "    </tr>\n",
       "    <tr>\n",
       "      <th>Água Funda</th>\n",
       "      <td>139.000000</td>\n",
       "    </tr>\n",
       "    <tr>\n",
       "      <th>Água Rasa</th>\n",
       "      <td>340.250000</td>\n",
       "    </tr>\n",
       "  </tbody>\n",
       "</table>\n",
       "<p>702 rows × 1 columns</p>\n",
       "</div>"
      ],
      "text/plain": [
       "                     Metragem\n",
       "Bairro                       \n",
       "Aclimação          253.056818\n",
       "Alto da Boa Vista  418.875000\n",
       "Alto da Lapa       294.337209\n",
       "Alto da Mooca      270.050000\n",
       "Alto de Pinheiros  433.444988\n",
       "...                       ...\n",
       "Vila Água Funda    152.200000\n",
       "Água Branca        191.000000\n",
       "Água Fria          165.416667\n",
       "Água Funda         139.000000\n",
       "Água Rasa          340.250000\n",
       "\n",
       "[702 rows x 1 columns]"
      ]
     },
     "execution_count": 145,
     "metadata": {},
     "output_type": "execute_result"
    }
   ],
   "source": [
    "metragem_bairros = pd.DataFrame(dados_sem_na.groupby(['Bairro'])['Metragem'].mean())\n",
    "metragem_bairros"
   ]
  },
  {
   "cell_type": "markdown",
   "id": "9940ede5",
   "metadata": {},
   "source": [
    "# AULA 2 - TRATAMENTO DE DADOS E PRIMEIROS GRAFICOS "
   ]
  },
  {
   "cell_type": "code",
   "execution_count": 146,
   "id": "77d105f7",
   "metadata": {},
   "outputs": [
    {
     "data": {
      "text/plain": [
       "'R$ 7.000.000'"
      ]
     },
     "execution_count": 146,
     "metadata": {},
     "output_type": "execute_result"
    }
   ],
   "source": [
    "dados['Valor'][0]"
   ]
  },
  {
   "cell_type": "markdown",
   "id": "fa9a6d74",
   "metadata": {},
   "source": [
    "Utilizado para dividir Int de strings para analisar "
   ]
  },
  {
   "cell_type": "code",
   "execution_count": 147,
   "id": "f621c887",
   "metadata": {},
   "outputs": [
    {
     "data": {
      "text/plain": [
       "['R$', '7.000.000']"
      ]
     },
     "execution_count": 147,
     "metadata": {},
     "output_type": "execute_result"
    }
   ],
   "source": [
    "dados['Valor'][0].split()"
   ]
  },
  {
   "cell_type": "code",
   "execution_count": 148,
   "id": "6cc12469",
   "metadata": {},
   "outputs": [
    {
     "data": {
      "text/html": [
       "<div>\n",
       "<style scoped>\n",
       "    .dataframe tbody tr th:only-of-type {\n",
       "        vertical-align: middle;\n",
       "    }\n",
       "\n",
       "    .dataframe tbody tr th {\n",
       "        vertical-align: top;\n",
       "    }\n",
       "\n",
       "    .dataframe thead th {\n",
       "        text-align: right;\n",
       "    }\n",
       "</style>\n",
       "<table border=\"1\" class=\"dataframe\">\n",
       "  <thead>\n",
       "    <tr style=\"text-align: right;\">\n",
       "      <th></th>\n",
       "      <th>Rua</th>\n",
       "      <th>Bairro</th>\n",
       "      <th>Cidade</th>\n",
       "      <th>Metragem</th>\n",
       "      <th>Quartos</th>\n",
       "      <th>Banheiros</th>\n",
       "      <th>Vagas</th>\n",
       "      <th>Valor</th>\n",
       "    </tr>\n",
       "  </thead>\n",
       "  <tbody>\n",
       "    <tr>\n",
       "      <th>4489</th>\n",
       "      <td>NaN</td>\n",
       "      <td>Alto de Pinheiros</td>\n",
       "      <td>São Paulo</td>\n",
       "      <td>534</td>\n",
       "      <td>3</td>\n",
       "      <td>3</td>\n",
       "      <td>2</td>\n",
       "      <td>R$ 5.500.000</td>\n",
       "    </tr>\n",
       "    <tr>\n",
       "      <th>8114</th>\n",
       "      <td>Rua Engenheiro Artur de Miranda, , 187</td>\n",
       "      <td>Butantã</td>\n",
       "      <td>São Paulo</td>\n",
       "      <td>180</td>\n",
       "      <td>3</td>\n",
       "      <td>2</td>\n",
       "      <td>3</td>\n",
       "      <td>R$ 900.000</td>\n",
       "    </tr>\n",
       "    <tr>\n",
       "      <th>2853</th>\n",
       "      <td>Rua Antônio de Gouveia Giudice</td>\n",
       "      <td>Alto de Pinheiros</td>\n",
       "      <td>São Paulo</td>\n",
       "      <td>660</td>\n",
       "      <td>3</td>\n",
       "      <td>6</td>\n",
       "      <td>5</td>\n",
       "      <td>R$ 7.000.000</td>\n",
       "    </tr>\n",
       "    <tr>\n",
       "      <th>4044</th>\n",
       "      <td>NaN</td>\n",
       "      <td>Jardim Europa</td>\n",
       "      <td>São Paulo</td>\n",
       "      <td>186</td>\n",
       "      <td>3</td>\n",
       "      <td>5</td>\n",
       "      <td>4</td>\n",
       "      <td>R$ 4.700.000</td>\n",
       "    </tr>\n",
       "    <tr>\n",
       "      <th>7770</th>\n",
       "      <td>Rua Manoel Pires do Valle, 146</td>\n",
       "      <td>Vila Domitila</td>\n",
       "      <td>São Paulo</td>\n",
       "      <td>170</td>\n",
       "      <td>3</td>\n",
       "      <td>2</td>\n",
       "      <td>3</td>\n",
       "      <td>R$ 549.000</td>\n",
       "    </tr>\n",
       "    <tr>\n",
       "      <th>1511</th>\n",
       "      <td>NaN</td>\n",
       "      <td>Jardim Paulista</td>\n",
       "      <td>São Paulo</td>\n",
       "      <td>440</td>\n",
       "      <td>4</td>\n",
       "      <td>4</td>\n",
       "      <td>2</td>\n",
       "      <td>R$ 3.195.000</td>\n",
       "    </tr>\n",
       "    <tr>\n",
       "      <th>5452</th>\n",
       "      <td>Rua ESão Pauloírito Santo</td>\n",
       "      <td>Aclimação</td>\n",
       "      <td>São Paulo</td>\n",
       "      <td>255</td>\n",
       "      <td>6</td>\n",
       "      <td>4</td>\n",
       "      <td>2</td>\n",
       "      <td>R$ 1.940.000</td>\n",
       "    </tr>\n",
       "    <tr>\n",
       "      <th>6456</th>\n",
       "      <td>Rua Manduri, 671</td>\n",
       "      <td>Jardim Paulistano</td>\n",
       "      <td>São Paulo</td>\n",
       "      <td>455</td>\n",
       "      <td>4</td>\n",
       "      <td>4</td>\n",
       "      <td>3</td>\n",
       "      <td>R$ 3.620.000</td>\n",
       "    </tr>\n",
       "    <tr>\n",
       "      <th>389</th>\n",
       "      <td>NaN</td>\n",
       "      <td>Vila Brasilina</td>\n",
       "      <td>São Paulo</td>\n",
       "      <td>187</td>\n",
       "      <td>3</td>\n",
       "      <td>1</td>\n",
       "      <td>5</td>\n",
       "      <td>R$ 690.000</td>\n",
       "    </tr>\n",
       "    <tr>\n",
       "      <th>9799</th>\n",
       "      <td>Rua Rosa Mística, 151</td>\n",
       "      <td>Vila Campestre</td>\n",
       "      <td>São Paulo</td>\n",
       "      <td>130</td>\n",
       "      <td>3</td>\n",
       "      <td>4</td>\n",
       "      <td>2</td>\n",
       "      <td>R$ 530.000</td>\n",
       "    </tr>\n",
       "  </tbody>\n",
       "</table>\n",
       "</div>"
      ],
      "text/plain": [
       "                                          Rua             Bairro     Cidade  \\\n",
       "4489                                      NaN  Alto de Pinheiros  São Paulo   \n",
       "8114  Rua Engenheiro Artur de Miranda, , 187             Butantã  São Paulo   \n",
       "2853           Rua Antônio de Gouveia Giudice  Alto de Pinheiros  São Paulo   \n",
       "4044                                      NaN      Jardim Europa  São Paulo   \n",
       "7770          Rua Manoel Pires do Valle, 146       Vila Domitila  São Paulo   \n",
       "1511                                      NaN    Jardim Paulista  São Paulo   \n",
       "5452                Rua ESão Pauloírito Santo          Aclimação  São Paulo   \n",
       "6456                        Rua Manduri, 671   Jardim Paulistano  São Paulo   \n",
       "389                                       NaN     Vila Brasilina  São Paulo   \n",
       "9799                   Rua Rosa Mística, 151      Vila Campestre  São Paulo   \n",
       "\n",
       "      Metragem  Quartos  Banheiros  Vagas         Valor  \n",
       "4489       534        3          3      2  R$ 5.500.000  \n",
       "8114       180        3          2      3    R$ 900.000  \n",
       "2853       660        3          6      5  R$ 7.000.000  \n",
       "4044       186        3          5      4  R$ 4.700.000  \n",
       "7770       170        3          2      3    R$ 549.000  \n",
       "1511       440        4          4      2  R$ 3.195.000  \n",
       "5452       255        6          4      2  R$ 1.940.000  \n",
       "6456       455        4          4      3  R$ 3.620.000  \n",
       "389        187        3          1      5    R$ 690.000  \n",
       "9799       130        3          4      2    R$ 530.000  "
      ]
     },
     "execution_count": 148,
     "metadata": {},
     "output_type": "execute_result"
    }
   ],
   "source": [
    "dados.sample(10)"
   ]
  },
  {
   "cell_type": "code",
   "execution_count": 149,
   "id": "0c196fc9",
   "metadata": {},
   "outputs": [
    {
     "data": {
      "text/plain": [
       "['R$', '8.000', '/Mês']"
      ]
     },
     "execution_count": 149,
     "metadata": {},
     "output_type": "execute_result"
    }
   ],
   "source": [
    "dados['Valor'][7437].split()"
   ]
  },
  {
   "cell_type": "code",
   "execution_count": 150,
   "id": "55833a56",
   "metadata": {},
   "outputs": [],
   "source": [
    "#separação de todos os elementos strings de Int\n",
    "#Expand serve para criar automaticamente as colunas no DF original"
   ]
  },
  {
   "cell_type": "code",
   "execution_count": 151,
   "id": "31ddeaa3",
   "metadata": {},
   "outputs": [
    {
     "data": {
      "text/html": [
       "<div>\n",
       "<style scoped>\n",
       "    .dataframe tbody tr th:only-of-type {\n",
       "        vertical-align: middle;\n",
       "    }\n",
       "\n",
       "    .dataframe tbody tr th {\n",
       "        vertical-align: top;\n",
       "    }\n",
       "\n",
       "    .dataframe thead th {\n",
       "        text-align: right;\n",
       "    }\n",
       "</style>\n",
       "<table border=\"1\" class=\"dataframe\">\n",
       "  <thead>\n",
       "    <tr style=\"text-align: right;\">\n",
       "      <th></th>\n",
       "      <th>0</th>\n",
       "      <th>1</th>\n",
       "      <th>2</th>\n",
       "    </tr>\n",
       "  </thead>\n",
       "  <tbody>\n",
       "    <tr>\n",
       "      <th>0</th>\n",
       "      <td>R$</td>\n",
       "      <td>7.000.000</td>\n",
       "      <td>None</td>\n",
       "    </tr>\n",
       "    <tr>\n",
       "      <th>1</th>\n",
       "      <td>R$</td>\n",
       "      <td>3.700.000</td>\n",
       "      <td>None</td>\n",
       "    </tr>\n",
       "    <tr>\n",
       "      <th>2</th>\n",
       "      <td>R$</td>\n",
       "      <td>380.000</td>\n",
       "      <td>None</td>\n",
       "    </tr>\n",
       "    <tr>\n",
       "      <th>3</th>\n",
       "      <td>R$</td>\n",
       "      <td>685.000</td>\n",
       "      <td>None</td>\n",
       "    </tr>\n",
       "    <tr>\n",
       "      <th>4</th>\n",
       "      <td>R$</td>\n",
       "      <td>540.000</td>\n",
       "      <td>None</td>\n",
       "    </tr>\n",
       "    <tr>\n",
       "      <th>...</th>\n",
       "      <td>...</td>\n",
       "      <td>...</td>\n",
       "      <td>...</td>\n",
       "    </tr>\n",
       "    <tr>\n",
       "      <th>10003</th>\n",
       "      <td>R$</td>\n",
       "      <td>665.000</td>\n",
       "      <td>None</td>\n",
       "    </tr>\n",
       "    <tr>\n",
       "      <th>10004</th>\n",
       "      <td>R$</td>\n",
       "      <td>2.300.000</td>\n",
       "      <td>None</td>\n",
       "    </tr>\n",
       "    <tr>\n",
       "      <th>10005</th>\n",
       "      <td>R$</td>\n",
       "      <td>1.050.000</td>\n",
       "      <td>None</td>\n",
       "    </tr>\n",
       "    <tr>\n",
       "      <th>10006</th>\n",
       "      <td>R$</td>\n",
       "      <td>2.200</td>\n",
       "      <td>/Mês</td>\n",
       "    </tr>\n",
       "    <tr>\n",
       "      <th>10007</th>\n",
       "      <td>R$</td>\n",
       "      <td>270.000</td>\n",
       "      <td>None</td>\n",
       "    </tr>\n",
       "  </tbody>\n",
       "</table>\n",
       "<p>10008 rows × 3 columns</p>\n",
       "</div>"
      ],
      "text/plain": [
       "        0          1     2\n",
       "0      R$  7.000.000  None\n",
       "1      R$  3.700.000  None\n",
       "2      R$    380.000  None\n",
       "3      R$    685.000  None\n",
       "4      R$    540.000  None\n",
       "...    ..        ...   ...\n",
       "10003  R$    665.000  None\n",
       "10004  R$  2.300.000  None\n",
       "10005  R$  1.050.000  None\n",
       "10006  R$      2.200  /Mês\n",
       "10007  R$    270.000  None\n",
       "\n",
       "[10008 rows x 3 columns]"
      ]
     },
     "execution_count": 151,
     "metadata": {},
     "output_type": "execute_result"
    }
   ],
   "source": [
    "dados.Valor.str.split(expand = True) "
   ]
  },
  {
   "cell_type": "code",
   "execution_count": 152,
   "id": "cf1b7827",
   "metadata": {},
   "outputs": [
    {
     "data": {
      "text/plain": [
       "array(['R$'], dtype=object)"
      ]
     },
     "execution_count": 152,
     "metadata": {},
     "output_type": "execute_result"
    }
   ],
   "source": [
    "dados.Valor.str.split(expand = True)[0].unique()"
   ]
  },
  {
   "cell_type": "code",
   "execution_count": 153,
   "id": "4fa7c03e",
   "metadata": {},
   "outputs": [
    {
     "data": {
      "text/plain": [
       "array([None, '/Mês', '/Ano', '/Dia'], dtype=object)"
      ]
     },
     "execution_count": 153,
     "metadata": {},
     "output_type": "execute_result"
    }
   ],
   "source": [
    "dados.Valor.str.split(expand = True)[2].unique()"
   ]
  },
  {
   "cell_type": "code",
   "execution_count": 154,
   "id": "d4d33f61",
   "metadata": {},
   "outputs": [
    {
     "data": {
      "text/plain": [
       "1038"
      ]
     },
     "execution_count": 154,
     "metadata": {},
     "output_type": "execute_result"
    }
   ],
   "source": [
    "len(dados.Valor.str.split(expand = True)[1].unique())"
   ]
  },
  {
   "cell_type": "code",
   "execution_count": 155,
   "id": "90f28e52",
   "metadata": {},
   "outputs": [
    {
     "data": {
      "text/plain": [
       "2.500.000     182\n",
       "3.500.000     174\n",
       "1.200.000     170\n",
       "1.600.000     151\n",
       "1.500.000     150\n",
       "             ... \n",
       "3.064.000       1\n",
       "3.800           1\n",
       "2.022.000       1\n",
       "2.440.000       1\n",
       "15.499.000      1\n",
       "Name: 1, Length: 1038, dtype: int64"
      ]
     },
     "execution_count": 155,
     "metadata": {},
     "output_type": "execute_result"
    }
   ],
   "source": [
    "dados.Valor.str.split(expand = True)[1].value_counts()"
   ]
  },
  {
   "cell_type": "markdown",
   "id": "720f1918",
   "metadata": {},
   "source": [
    "Com o expand já é possível agregarmos colunas novas diretamente no nosso dataframe principal "
   ]
  },
  {
   "cell_type": "code",
   "execution_count": 156,
   "id": "e992c0ee",
   "metadata": {},
   "outputs": [
    {
     "data": {
      "text/html": [
       "<div>\n",
       "<style scoped>\n",
       "    .dataframe tbody tr th:only-of-type {\n",
       "        vertical-align: middle;\n",
       "    }\n",
       "\n",
       "    .dataframe tbody tr th {\n",
       "        vertical-align: top;\n",
       "    }\n",
       "\n",
       "    .dataframe thead th {\n",
       "        text-align: right;\n",
       "    }\n",
       "</style>\n",
       "<table border=\"1\" class=\"dataframe\">\n",
       "  <thead>\n",
       "    <tr style=\"text-align: right;\">\n",
       "      <th></th>\n",
       "      <th>Rua</th>\n",
       "      <th>Bairro</th>\n",
       "      <th>Cidade</th>\n",
       "      <th>Metragem</th>\n",
       "      <th>Quartos</th>\n",
       "      <th>Banheiros</th>\n",
       "      <th>Vagas</th>\n",
       "      <th>Valor</th>\n",
       "      <th>Moeda</th>\n",
       "      <th>Valor_Anuncio</th>\n",
       "      <th>Tipo_anuncio</th>\n",
       "    </tr>\n",
       "  </thead>\n",
       "  <tbody>\n",
       "    <tr>\n",
       "      <th>9498</th>\n",
       "      <td>Rua Conceição de Monte Alegre</td>\n",
       "      <td>Cidade Monções</td>\n",
       "      <td>São Paulo</td>\n",
       "      <td>95</td>\n",
       "      <td>2</td>\n",
       "      <td>2</td>\n",
       "      <td>1</td>\n",
       "      <td>R$ 636.000</td>\n",
       "      <td>R$</td>\n",
       "      <td>636.000</td>\n",
       "      <td>None</td>\n",
       "    </tr>\n",
       "    <tr>\n",
       "      <th>2168</th>\n",
       "      <td>NaN</td>\n",
       "      <td>Jardim Morumbi</td>\n",
       "      <td>São Paulo</td>\n",
       "      <td>620</td>\n",
       "      <td>4</td>\n",
       "      <td>4</td>\n",
       "      <td>10</td>\n",
       "      <td>R$ 4.900.000</td>\n",
       "      <td>R$</td>\n",
       "      <td>4.900.000</td>\n",
       "      <td>None</td>\n",
       "    </tr>\n",
       "    <tr>\n",
       "      <th>3555</th>\n",
       "      <td>Rua Nabih Assad Abdalla</td>\n",
       "      <td>Vila Morumbi</td>\n",
       "      <td>São Paulo</td>\n",
       "      <td>540</td>\n",
       "      <td>4</td>\n",
       "      <td>3</td>\n",
       "      <td>2</td>\n",
       "      <td>R$ 3.850.000</td>\n",
       "      <td>R$</td>\n",
       "      <td>3.850.000</td>\n",
       "      <td>None</td>\n",
       "    </tr>\n",
       "    <tr>\n",
       "      <th>2244</th>\n",
       "      <td>NaN</td>\n",
       "      <td>Vila Madalena</td>\n",
       "      <td>São Paulo</td>\n",
       "      <td>605</td>\n",
       "      <td>4</td>\n",
       "      <td>6</td>\n",
       "      <td>6</td>\n",
       "      <td>R$ 7.000.000</td>\n",
       "      <td>R$</td>\n",
       "      <td>7.000.000</td>\n",
       "      <td>None</td>\n",
       "    </tr>\n",
       "    <tr>\n",
       "      <th>7157</th>\n",
       "      <td>Rua São Ludgero</td>\n",
       "      <td>Granja Julieta</td>\n",
       "      <td>São Paulo</td>\n",
       "      <td>246</td>\n",
       "      <td>4</td>\n",
       "      <td>4</td>\n",
       "      <td>3</td>\n",
       "      <td>R$ 2.550.000</td>\n",
       "      <td>R$</td>\n",
       "      <td>2.550.000</td>\n",
       "      <td>None</td>\n",
       "    </tr>\n",
       "    <tr>\n",
       "      <th>1701</th>\n",
       "      <td>NaN</td>\n",
       "      <td>Jardim Prudência</td>\n",
       "      <td>São Paulo</td>\n",
       "      <td>418</td>\n",
       "      <td>4</td>\n",
       "      <td>6</td>\n",
       "      <td>4</td>\n",
       "      <td>R$ 1.950.000</td>\n",
       "      <td>R$</td>\n",
       "      <td>1.950.000</td>\n",
       "      <td>None</td>\n",
       "    </tr>\n",
       "    <tr>\n",
       "      <th>2797</th>\n",
       "      <td>Rua Escobar Ortiz</td>\n",
       "      <td>Vila Nova Conceição</td>\n",
       "      <td>São Paulo</td>\n",
       "      <td>190</td>\n",
       "      <td>3</td>\n",
       "      <td>3</td>\n",
       "      <td>2</td>\n",
       "      <td>R$ 9.000\\n                      /Mês</td>\n",
       "      <td>R$</td>\n",
       "      <td>9.000</td>\n",
       "      <td>/Mês</td>\n",
       "    </tr>\n",
       "    <tr>\n",
       "      <th>7332</th>\n",
       "      <td>NaN</td>\n",
       "      <td>Campo Belo</td>\n",
       "      <td>São Paulo</td>\n",
       "      <td>214</td>\n",
       "      <td>4</td>\n",
       "      <td>5</td>\n",
       "      <td>4</td>\n",
       "      <td>R$ 2.500.000</td>\n",
       "      <td>R$</td>\n",
       "      <td>2.500.000</td>\n",
       "      <td>None</td>\n",
       "    </tr>\n",
       "    <tr>\n",
       "      <th>1718</th>\n",
       "      <td>NaN</td>\n",
       "      <td>Chácara Califórnia</td>\n",
       "      <td>São Paulo</td>\n",
       "      <td>130</td>\n",
       "      <td>3</td>\n",
       "      <td>5</td>\n",
       "      <td>2</td>\n",
       "      <td>R$ 680.000</td>\n",
       "      <td>R$</td>\n",
       "      <td>680.000</td>\n",
       "      <td>None</td>\n",
       "    </tr>\n",
       "    <tr>\n",
       "      <th>8956</th>\n",
       "      <td>NaN</td>\n",
       "      <td>Jardim Campo Grande</td>\n",
       "      <td>São Paulo</td>\n",
       "      <td>295</td>\n",
       "      <td>3</td>\n",
       "      <td>3</td>\n",
       "      <td>5</td>\n",
       "      <td>R$ 1.700.000</td>\n",
       "      <td>R$</td>\n",
       "      <td>1.700.000</td>\n",
       "      <td>None</td>\n",
       "    </tr>\n",
       "  </tbody>\n",
       "</table>\n",
       "</div>"
      ],
      "text/plain": [
       "                                Rua               Bairro     Cidade  Metragem  \\\n",
       "9498  Rua Conceição de Monte Alegre       Cidade Monções  São Paulo        95   \n",
       "2168                            NaN       Jardim Morumbi  São Paulo       620   \n",
       "3555        Rua Nabih Assad Abdalla         Vila Morumbi  São Paulo       540   \n",
       "2244                            NaN        Vila Madalena  São Paulo       605   \n",
       "7157                Rua São Ludgero       Granja Julieta  São Paulo       246   \n",
       "1701                            NaN     Jardim Prudência  São Paulo       418   \n",
       "2797              Rua Escobar Ortiz  Vila Nova Conceição  São Paulo       190   \n",
       "7332                            NaN           Campo Belo  São Paulo       214   \n",
       "1718                            NaN   Chácara Califórnia  São Paulo       130   \n",
       "8956                            NaN  Jardim Campo Grande  São Paulo       295   \n",
       "\n",
       "      Quartos  Banheiros  Vagas                                 Valor Moeda  \\\n",
       "9498        2          2      1                            R$ 636.000    R$   \n",
       "2168        4          4     10                          R$ 4.900.000    R$   \n",
       "3555        4          3      2                          R$ 3.850.000    R$   \n",
       "2244        4          6      6                          R$ 7.000.000    R$   \n",
       "7157        4          4      3                          R$ 2.550.000    R$   \n",
       "1701        4          6      4                          R$ 1.950.000    R$   \n",
       "2797        3          3      2  R$ 9.000\\n                      /Mês    R$   \n",
       "7332        4          5      4                          R$ 2.500.000    R$   \n",
       "1718        3          5      2                            R$ 680.000    R$   \n",
       "8956        3          3      5                          R$ 1.700.000    R$   \n",
       "\n",
       "     Valor_Anuncio Tipo_anuncio  \n",
       "9498       636.000         None  \n",
       "2168     4.900.000         None  \n",
       "3555     3.850.000         None  \n",
       "2244     7.000.000         None  \n",
       "7157     2.550.000         None  \n",
       "1701     1.950.000         None  \n",
       "2797         9.000         /Mês  \n",
       "7332     2.500.000         None  \n",
       "1718       680.000         None  \n",
       "8956     1.700.000         None  "
      ]
     },
     "execution_count": 156,
     "metadata": {},
     "output_type": "execute_result"
    }
   ],
   "source": [
    "dados[['Moeda','Valor_Anuncio','Tipo_anuncio']] = dados.Valor.str.split(expand = True)\n",
    "dados.sample(10)"
   ]
  },
  {
   "cell_type": "code",
   "execution_count": 119,
   "id": "8f912493",
   "metadata": {},
   "outputs": [
    {
     "data": {
      "text/plain": [
       "array([None], dtype=object)"
      ]
     },
     "execution_count": 119,
     "metadata": {},
     "output_type": "execute_result"
    }
   ],
   "source": [
    "dados[dados['Tipo_anuncio'].isnull()]['Tipo_anuncio'].unique()"
   ]
  },
  {
   "cell_type": "code",
   "execution_count": 171,
   "id": "4928f759",
   "metadata": {},
   "outputs": [],
   "source": [
    "dados_vendas = dados[dados['Tipo_anuncio'].isnull()]"
   ]
  },
  {
   "cell_type": "code",
   "execution_count": 172,
   "id": "1a4aa9fe",
   "metadata": {},
   "outputs": [
    {
     "data": {
      "text/plain": [
       "(9156, 11)"
      ]
     },
     "execution_count": 172,
     "metadata": {},
     "output_type": "execute_result"
    }
   ],
   "source": [
    "dados_vendas.shape"
   ]
  },
  {
   "cell_type": "code",
   "execution_count": 173,
   "id": "1389c7bb",
   "metadata": {},
   "outputs": [
    {
     "data": {
      "text/plain": [
       "(10008, 11)"
      ]
     },
     "execution_count": 173,
     "metadata": {},
     "output_type": "execute_result"
    }
   ],
   "source": [
    "dados.shape"
   ]
  },
  {
   "cell_type": "code",
   "execution_count": 174,
   "id": "9e36ceca",
   "metadata": {},
   "outputs": [
    {
     "name": "stderr",
     "output_type": "stream",
     "text": [
      "/var/folders/jq/p6245ypn28d3k9264d8nzq_h0000gn/T/ipykernel_735/4294254824.py:1: FutureWarning: The default value of regex will change from True to False in a future version. In addition, single character regular expressions will *not* be treated as literal strings when regex=True.\n",
      "  dados_vendas['Valor_anuncio_float'] = dados_vendas['Valor_Anuncio'].str.replace('.','').astype(float)\n",
      "/var/folders/jq/p6245ypn28d3k9264d8nzq_h0000gn/T/ipykernel_735/4294254824.py:1: SettingWithCopyWarning: \n",
      "A value is trying to be set on a copy of a slice from a DataFrame.\n",
      "Try using .loc[row_indexer,col_indexer] = value instead\n",
      "\n",
      "See the caveats in the documentation: https://pandas.pydata.org/pandas-docs/stable/user_guide/indexing.html#returning-a-view-versus-a-copy\n",
      "  dados_vendas['Valor_anuncio_float'] = dados_vendas['Valor_Anuncio'].str.replace('.','').astype(float)\n"
     ]
    }
   ],
   "source": [
    "dados_vendas['Valor_anuncio_float'] = dados_vendas['Valor_Anuncio'].str.replace('.','').astype(float)"
   ]
  },
  {
   "cell_type": "code",
   "execution_count": 183,
   "id": "1e744a77",
   "metadata": {},
   "outputs": [
    {
     "data": {
      "text/plain": [
       "<AxesSubplot:ylabel='Frequency'>"
      ]
     },
     "execution_count": 183,
     "metadata": {},
     "output_type": "execute_result"
    },
    {
     "data": {
      "image/png": "[encoded data removed]",
      "text/plain": [
       "<Figure size 432x288 with 1 Axes>"
      ]
     },
     "metadata": {
      "needs_background": "light"
     },
     "output_type": "display_data"
    }
   ],
   "source": [
    "dados_vendas['Valor_anuncio_float'].plot.hist(bins = 50)"
   ]
  },
  {
   "cell_type": "code",
   "execution_count": 197,
   "id": "d25edad8",
   "metadata": {},
   "outputs": [
    {
     "data": {
      "text/html": [
       "<div>\n",
       "<style scoped>\n",
       "    .dataframe tbody tr th:only-of-type {\n",
       "        vertical-align: middle;\n",
       "    }\n",
       "\n",
       "    .dataframe tbody tr th {\n",
       "        vertical-align: top;\n",
       "    }\n",
       "\n",
       "    .dataframe thead th {\n",
       "        text-align: right;\n",
       "    }\n",
       "</style>\n",
       "<table border=\"1\" class=\"dataframe\">\n",
       "  <thead>\n",
       "    <tr style=\"text-align: right;\">\n",
       "      <th></th>\n",
       "      <th>Metragem</th>\n",
       "      <th>Quartos</th>\n",
       "      <th>Banheiros</th>\n",
       "      <th>Vagas</th>\n",
       "      <th>Valor_anuncio_float</th>\n",
       "    </tr>\n",
       "  </thead>\n",
       "  <tbody>\n",
       "    <tr>\n",
       "      <th>count</th>\n",
       "      <td>9156.00</td>\n",
       "      <td>9156.00</td>\n",
       "      <td>9156.00</td>\n",
       "      <td>9156.00</td>\n",
       "      <td>9156.00</td>\n",
       "    </tr>\n",
       "    <tr>\n",
       "      <th>mean</th>\n",
       "      <td>434.42</td>\n",
       "      <td>3.45</td>\n",
       "      <td>3.80</td>\n",
       "      <td>3.96</td>\n",
       "      <td>3052202.96</td>\n",
       "    </tr>\n",
       "    <tr>\n",
       "      <th>std</th>\n",
       "      <td>7856.42</td>\n",
       "      <td>1.05</td>\n",
       "      <td>1.97</td>\n",
       "      <td>2.60</td>\n",
       "      <td>3944208.19</td>\n",
       "    </tr>\n",
       "    <tr>\n",
       "      <th>min</th>\n",
       "      <td>10.00</td>\n",
       "      <td>1.00</td>\n",
       "      <td>1.00</td>\n",
       "      <td>1.00</td>\n",
       "      <td>13000.00</td>\n",
       "    </tr>\n",
       "    <tr>\n",
       "      <th>25%</th>\n",
       "      <td>168.00</td>\n",
       "      <td>3.00</td>\n",
       "      <td>2.00</td>\n",
       "      <td>2.00</td>\n",
       "      <td>890000.00</td>\n",
       "    </tr>\n",
       "    <tr>\n",
       "      <th>50%</th>\n",
       "      <td>276.00</td>\n",
       "      <td>3.00</td>\n",
       "      <td>4.00</td>\n",
       "      <td>4.00</td>\n",
       "      <td>1800000.00</td>\n",
       "    </tr>\n",
       "    <tr>\n",
       "      <th>75%</th>\n",
       "      <td>450.00</td>\n",
       "      <td>4.00</td>\n",
       "      <td>5.00</td>\n",
       "      <td>5.00</td>\n",
       "      <td>3500000.00</td>\n",
       "    </tr>\n",
       "    <tr>\n",
       "      <th>max</th>\n",
       "      <td>750000.00</td>\n",
       "      <td>16.00</td>\n",
       "      <td>40.00</td>\n",
       "      <td>50.00</td>\n",
       "      <td>65000000.00</td>\n",
       "    </tr>\n",
       "  </tbody>\n",
       "</table>\n",
       "</div>"
      ],
      "text/plain": [
       "       Metragem  Quartos  Banheiros   Vagas  Valor_anuncio_float\n",
       "count   9156.00  9156.00    9156.00 9156.00              9156.00\n",
       "mean     434.42     3.45       3.80    3.96           3052202.96\n",
       "std     7856.42     1.05       1.97    2.60           3944208.19\n",
       "min       10.00     1.00       1.00    1.00             13000.00\n",
       "25%      168.00     3.00       2.00    2.00            890000.00\n",
       "50%      276.00     3.00       4.00    4.00           1800000.00\n",
       "75%      450.00     4.00       5.00    5.00           3500000.00\n",
       "max   750000.00    16.00      40.00   50.00          65000000.00"
      ]
     },
     "execution_count": 197,
     "metadata": {},
     "output_type": "execute_result"
    }
   ],
   "source": [
    "pd.set_option('display.precision',2)\n",
    "pd.set_option('display.float_format', lambda x: '%.2f' % x)\n",
    "dados_vendas.describe()"
   ]
  },
  {
   "cell_type": "code",
   "execution_count": 200,
   "id": "a2f1040f",
   "metadata": {},
   "outputs": [
    {
     "data": {
      "text/html": [
       "<div>\n",
       "<style scoped>\n",
       "    .dataframe tbody tr th:only-of-type {\n",
       "        vertical-align: middle;\n",
       "    }\n",
       "\n",
       "    .dataframe tbody tr th {\n",
       "        vertical-align: top;\n",
       "    }\n",
       "\n",
       "    .dataframe thead th {\n",
       "        text-align: right;\n",
       "    }\n",
       "</style>\n",
       "<table border=\"1\" class=\"dataframe\">\n",
       "  <thead>\n",
       "    <tr style=\"text-align: right;\">\n",
       "      <th></th>\n",
       "      <th>Rua</th>\n",
       "      <th>Bairro</th>\n",
       "      <th>Cidade</th>\n",
       "      <th>Metragem</th>\n",
       "      <th>Quartos</th>\n",
       "      <th>Banheiros</th>\n",
       "      <th>Vagas</th>\n",
       "      <th>Valor</th>\n",
       "      <th>Moeda</th>\n",
       "      <th>Valor_Anuncio</th>\n",
       "      <th>Tipo_anuncio</th>\n",
       "      <th>Valor_anuncio_float</th>\n",
       "    </tr>\n",
       "  </thead>\n",
       "  <tbody>\n",
       "    <tr>\n",
       "      <th>count</th>\n",
       "      <td>6107</td>\n",
       "      <td>9146</td>\n",
       "      <td>9156</td>\n",
       "      <td>9156.00</td>\n",
       "      <td>9156.00</td>\n",
       "      <td>9156.00</td>\n",
       "      <td>9156.00</td>\n",
       "      <td>9156</td>\n",
       "      <td>9156</td>\n",
       "      <td>9156</td>\n",
       "      <td>0</td>\n",
       "      <td>9156.00</td>\n",
       "    </tr>\n",
       "    <tr>\n",
       "      <th>unique</th>\n",
       "      <td>3006</td>\n",
       "      <td>697</td>\n",
       "      <td>1</td>\n",
       "      <td>NaN</td>\n",
       "      <td>NaN</td>\n",
       "      <td>NaN</td>\n",
       "      <td>NaN</td>\n",
       "      <td>939</td>\n",
       "      <td>1</td>\n",
       "      <td>939</td>\n",
       "      <td>0</td>\n",
       "      <td>NaN</td>\n",
       "    </tr>\n",
       "    <tr>\n",
       "      <th>top</th>\n",
       "      <td>Rua Alberto Faria</td>\n",
       "      <td>Alto de Pinheiros</td>\n",
       "      <td>São Paulo</td>\n",
       "      <td>NaN</td>\n",
       "      <td>NaN</td>\n",
       "      <td>NaN</td>\n",
       "      <td>NaN</td>\n",
       "      <td>R$ 2.500.000</td>\n",
       "      <td>R$</td>\n",
       "      <td>2.500.000</td>\n",
       "      <td>NaN</td>\n",
       "      <td>NaN</td>\n",
       "    </tr>\n",
       "    <tr>\n",
       "      <th>freq</th>\n",
       "      <td>24</td>\n",
       "      <td>369</td>\n",
       "      <td>9156</td>\n",
       "      <td>NaN</td>\n",
       "      <td>NaN</td>\n",
       "      <td>NaN</td>\n",
       "      <td>NaN</td>\n",
       "      <td>182</td>\n",
       "      <td>9156</td>\n",
       "      <td>182</td>\n",
       "      <td>NaN</td>\n",
       "      <td>NaN</td>\n",
       "    </tr>\n",
       "    <tr>\n",
       "      <th>mean</th>\n",
       "      <td>NaN</td>\n",
       "      <td>NaN</td>\n",
       "      <td>NaN</td>\n",
       "      <td>434.42</td>\n",
       "      <td>3.45</td>\n",
       "      <td>3.80</td>\n",
       "      <td>3.96</td>\n",
       "      <td>NaN</td>\n",
       "      <td>NaN</td>\n",
       "      <td>NaN</td>\n",
       "      <td>NaN</td>\n",
       "      <td>3052202.96</td>\n",
       "    </tr>\n",
       "    <tr>\n",
       "      <th>std</th>\n",
       "      <td>NaN</td>\n",
       "      <td>NaN</td>\n",
       "      <td>NaN</td>\n",
       "      <td>7856.42</td>\n",
       "      <td>1.05</td>\n",
       "      <td>1.97</td>\n",
       "      <td>2.60</td>\n",
       "      <td>NaN</td>\n",
       "      <td>NaN</td>\n",
       "      <td>NaN</td>\n",
       "      <td>NaN</td>\n",
       "      <td>3944208.19</td>\n",
       "    </tr>\n",
       "    <tr>\n",
       "      <th>min</th>\n",
       "      <td>NaN</td>\n",
       "      <td>NaN</td>\n",
       "      <td>NaN</td>\n",
       "      <td>10.00</td>\n",
       "      <td>1.00</td>\n",
       "      <td>1.00</td>\n",
       "      <td>1.00</td>\n",
       "      <td>NaN</td>\n",
       "      <td>NaN</td>\n",
       "      <td>NaN</td>\n",
       "      <td>NaN</td>\n",
       "      <td>13000.00</td>\n",
       "    </tr>\n",
       "    <tr>\n",
       "      <th>25%</th>\n",
       "      <td>NaN</td>\n",
       "      <td>NaN</td>\n",
       "      <td>NaN</td>\n",
       "      <td>168.00</td>\n",
       "      <td>3.00</td>\n",
       "      <td>2.00</td>\n",
       "      <td>2.00</td>\n",
       "      <td>NaN</td>\n",
       "      <td>NaN</td>\n",
       "      <td>NaN</td>\n",
       "      <td>NaN</td>\n",
       "      <td>890000.00</td>\n",
       "    </tr>\n",
       "    <tr>\n",
       "      <th>50%</th>\n",
       "      <td>NaN</td>\n",
       "      <td>NaN</td>\n",
       "      <td>NaN</td>\n",
       "      <td>276.00</td>\n",
       "      <td>3.00</td>\n",
       "      <td>4.00</td>\n",
       "      <td>4.00</td>\n",
       "      <td>NaN</td>\n",
       "      <td>NaN</td>\n",
       "      <td>NaN</td>\n",
       "      <td>NaN</td>\n",
       "      <td>1800000.00</td>\n",
       "    </tr>\n",
       "    <tr>\n",
       "      <th>75%</th>\n",
       "      <td>NaN</td>\n",
       "      <td>NaN</td>\n",
       "      <td>NaN</td>\n",
       "      <td>450.00</td>\n",
       "      <td>4.00</td>\n",
       "      <td>5.00</td>\n",
       "      <td>5.00</td>\n",
       "      <td>NaN</td>\n",
       "      <td>NaN</td>\n",
       "      <td>NaN</td>\n",
       "      <td>NaN</td>\n",
       "      <td>3500000.00</td>\n",
       "    </tr>\n",
       "    <tr>\n",
       "      <th>max</th>\n",
       "      <td>NaN</td>\n",
       "      <td>NaN</td>\n",
       "      <td>NaN</td>\n",
       "      <td>750000.00</td>\n",
       "      <td>16.00</td>\n",
       "      <td>40.00</td>\n",
       "      <td>50.00</td>\n",
       "      <td>NaN</td>\n",
       "      <td>NaN</td>\n",
       "      <td>NaN</td>\n",
       "      <td>NaN</td>\n",
       "      <td>65000000.00</td>\n",
       "    </tr>\n",
       "  </tbody>\n",
       "</table>\n",
       "</div>"
      ],
      "text/plain": [
       "                      Rua             Bairro     Cidade  Metragem  Quartos  \\\n",
       "count                6107               9146       9156   9156.00  9156.00   \n",
       "unique               3006                697          1       NaN      NaN   \n",
       "top     Rua Alberto Faria  Alto de Pinheiros  São Paulo       NaN      NaN   \n",
       "freq                   24                369       9156       NaN      NaN   \n",
       "mean                  NaN                NaN        NaN    434.42     3.45   \n",
       "std                   NaN                NaN        NaN   7856.42     1.05   \n",
       "min                   NaN                NaN        NaN     10.00     1.00   \n",
       "25%                   NaN                NaN        NaN    168.00     3.00   \n",
       "50%                   NaN                NaN        NaN    276.00     3.00   \n",
       "75%                   NaN                NaN        NaN    450.00     4.00   \n",
       "max                   NaN                NaN        NaN 750000.00    16.00   \n",
       "\n",
       "        Banheiros   Vagas         Valor Moeda Valor_Anuncio Tipo_anuncio  \\\n",
       "count     9156.00 9156.00          9156  9156          9156            0   \n",
       "unique        NaN     NaN           939     1           939            0   \n",
       "top           NaN     NaN  R$ 2.500.000    R$     2.500.000          NaN   \n",
       "freq          NaN     NaN           182  9156           182          NaN   \n",
       "mean         3.80    3.96           NaN   NaN           NaN          NaN   \n",
       "std          1.97    2.60           NaN   NaN           NaN          NaN   \n",
       "min          1.00    1.00           NaN   NaN           NaN          NaN   \n",
       "25%          2.00    2.00           NaN   NaN           NaN          NaN   \n",
       "50%          4.00    4.00           NaN   NaN           NaN          NaN   \n",
       "75%          5.00    5.00           NaN   NaN           NaN          NaN   \n",
       "max         40.00   50.00           NaN   NaN           NaN          NaN   \n",
       "\n",
       "        Valor_anuncio_float  \n",
       "count               9156.00  \n",
       "unique                  NaN  \n",
       "top                     NaN  \n",
       "freq                    NaN  \n",
       "mean             3052202.96  \n",
       "std              3944208.19  \n",
       "min                13000.00  \n",
       "25%               890000.00  \n",
       "50%              1800000.00  \n",
       "75%              3500000.00  \n",
       "max             65000000.00  "
      ]
     },
     "execution_count": 200,
     "metadata": {},
     "output_type": "execute_result"
    }
   ],
   "source": [
    "dados_vendas.describe(include = 'all')"
   ]
  },
  {
   "cell_type": "code",
   "execution_count": 201,
   "id": "4fff786e",
   "metadata": {},
   "outputs": [
    {
     "data": {
      "text/html": [
       "<div>\n",
       "<style scoped>\n",
       "    .dataframe tbody tr th:only-of-type {\n",
       "        vertical-align: middle;\n",
       "    }\n",
       "\n",
       "    .dataframe tbody tr th {\n",
       "        vertical-align: top;\n",
       "    }\n",
       "\n",
       "    .dataframe thead th {\n",
       "        text-align: right;\n",
       "    }\n",
       "</style>\n",
       "<table border=\"1\" class=\"dataframe\">\n",
       "  <thead>\n",
       "    <tr style=\"text-align: right;\">\n",
       "      <th></th>\n",
       "      <th>Rua</th>\n",
       "      <th>Bairro</th>\n",
       "      <th>Cidade</th>\n",
       "    </tr>\n",
       "  </thead>\n",
       "  <tbody>\n",
       "    <tr>\n",
       "      <th>count</th>\n",
       "      <td>6107</td>\n",
       "      <td>9146</td>\n",
       "      <td>9156</td>\n",
       "    </tr>\n",
       "    <tr>\n",
       "      <th>unique</th>\n",
       "      <td>3006</td>\n",
       "      <td>697</td>\n",
       "      <td>1</td>\n",
       "    </tr>\n",
       "    <tr>\n",
       "      <th>top</th>\n",
       "      <td>Rua Alberto Faria</td>\n",
       "      <td>Alto de Pinheiros</td>\n",
       "      <td>São Paulo</td>\n",
       "    </tr>\n",
       "    <tr>\n",
       "      <th>freq</th>\n",
       "      <td>24</td>\n",
       "      <td>369</td>\n",
       "      <td>9156</td>\n",
       "    </tr>\n",
       "  </tbody>\n",
       "</table>\n",
       "</div>"
      ],
      "text/plain": [
       "                      Rua             Bairro     Cidade\n",
       "count                6107               9146       9156\n",
       "unique               3006                697          1\n",
       "top     Rua Alberto Faria  Alto de Pinheiros  São Paulo\n",
       "freq                   24                369       9156"
      ]
     },
     "execution_count": 201,
     "metadata": {},
     "output_type": "execute_result"
    }
   ],
   "source": [
    "dados_vendas[['Rua','Bairro', 'Cidade']].describe()"
   ]
  },
  {
   "cell_type": "code",
   "execution_count": 216,
   "id": "9135c8d6",
   "metadata": {},
   "outputs": [
    {
     "data": {
      "image/png": "[encoded data removed]",
      "text/plain": [
       "<Figure size 720x576 with 1 Axes>"
      ]
     },
     "metadata": {},
     "output_type": "display_data"
    }
   ],
   "source": [
    "sns.set()\n",
    "plt.figure(figsize = (10,8))\n",
    "ax = sns.histplot(data = dados_vendas, x = 'Valor_anuncio_float', kde = True)\n",
    "ax.set_title('Histograma Valor Imovel')\n",
    "ax.set_ylabel('Contagem')\n",
    "plt.xlim((-50, 10000000))\n",
    "plt.show()"
   ]
  },
  {
   "cell_type": "code",
   "execution_count": null,
   "id": "4424f4fe",
   "metadata": {},
   "outputs": [],
   "source": []
  },
  {
   "cell_type": "markdown",
   "id": "c53b61c6",
   "metadata": {},
   "source": [
    "# Aula 2 \n",
    "\n",
    "# Desafio 1 \n",
    "### Criar uma escala de valores em milhões"
   ]
  },
  {
   "cell_type": "code",
   "execution_count": null,
   "id": "4c2b53d7",
   "metadata": {},
   "outputs": [],
   "source": []
  },
  {
   "cell_type": "markdown",
   "id": "fdc74a93",
   "metadata": {},
   "source": [
    "# Desafio 2 \n",
    "\n",
    "- criar uma escala em milhões\n",
    "- deixar o grafico do histograma de valores de imoveis de SP (bonitão) - label, titulos, scala, cores\n",
    "- Boxplot para retirar os outliers "
   ]
  },
  {
   "cell_type": "code",
   "execution_count": null,
   "id": "8a1e4131",
   "metadata": {},
   "outputs": [],
   "source": []
  },
  {
   "cell_type": "markdown",
   "id": "12854755",
   "metadata": {},
   "source": [
    "# Desafio 3\n",
    "\n",
    "- preço do m2 por Bairro\n",
    "- plotar em um grafico de dispersão/ lineas/ \n"
   ]
  },
  {
   "cell_type": "markdown",
   "id": "9d8b9477",
   "metadata": {},
   "source": [
    "# Desafio 4\n",
    "\n",
    "- explorar as bibliotecas de visualizações e colocar suas conclusões\n"
   ]
  },
  {
   "cell_type": "markdown",
   "id": "bf386c3b",
   "metadata": {},
   "source": [
    "# Desafio 5\n",
    "\n",
    "- pesquisar uma visualização para analisar os quartis, mediana e outliers "
   ]
  },
  {
   "cell_type": "code",
   "execution_count": null,
   "id": "8b82597c",
   "metadata": {},
   "outputs": [],
   "source": []
  }
 ],
 "metadata": {
  "kernelspec": {
   "display_name": "Python 3 (ipykernel)",
   "language": "python",
   "name": "python3"
  },
  "language_info": {
   "codemirror_mode": {
    "name": "ipython",
    "version": 3
   },
   "file_extension": ".py",
   "mimetype": "text/x-python",
   "name": "python",
   "nbconvert_exporter": "python",
   "pygments_lexer": "ipython3",
   "version": "3.9.12"
  }
 },
 "nbformat": 4,
 "nbformat_minor": 5
}
